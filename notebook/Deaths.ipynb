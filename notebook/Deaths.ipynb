{
 "cells": [
  {
   "cell_type": "code",
   "execution_count": 98,
   "metadata": {},
   "outputs": [],
   "source": [
    "import pandas as pd\n",
    "import numpy as np\n",
    "from matplotlib import pyplot as plt\n",
    "%matplotlib inline\n",
    "import seaborn as sns\n",
    "sns.set_style('whitegrid')\n",
    "import datetime"
   ]
  },
  {
   "cell_type": "code",
   "execution_count": 99,
   "metadata": {},
   "outputs": [],
   "source": [
    "step = 10"
   ]
  },
  {
   "cell_type": "code",
   "execution_count": 100,
   "metadata": {},
   "outputs": [
    {
     "name": "stdout",
     "output_type": "stream",
     "text": [
      "['01-22-2020', '01-23-2020', '01-24-2020', '01-25-2020', '01-26-2020', '01-27-2020', '01-28-2020', '01-29-2020', '01-30-2020', '01-31-2020', '02-01-2020', '02-02-2020', '02-03-2020', '02-04-2020', '02-05-2020', '02-06-2020', '02-07-2020', '02-08-2020', '02-09-2020', '02-10-2020', '02-11-2020', '02-12-2020', '02-13-2020', '02-14-2020', '02-15-2020', '02-16-2020', '02-17-2020', '02-18-2020', '02-19-2020', '02-20-2020', '02-21-2020', '02-22-2020', '02-23-2020', '02-24-2020', '02-25-2020', '02-26-2020', '02-27-2020', '02-28-2020', '02-29-2020', '03-01-2020', '03-02-2020', '03-03-2020', '03-04-2020', '03-05-2020', '03-06-2020', '03-07-2020', '03-08-2020', '03-09-2020', '03-10-2020', '03-11-2020', '03-12-2020', '03-13-2020', '03-14-2020', '03-15-2020', '03-16-2020', '03-17-2020', '03-18-2020', '03-19-2020', '03-20-2020', '03-21-2020', '03-22-2020', '03-23-2020', '03-24-2020']\n"
     ]
    }
   ],
   "source": [
    "start = datetime.datetime.strptime(\"1-22-2020\", \"%m-%d-%Y\")\n",
    "end = datetime.datetime.strptime(\"3-25-2020\", \"%m-%d-%Y\")\n",
    "date_generated = [start + datetime.timedelta(days=x) for x in range(0, (end-start).days)]\n",
    "\n",
    "dates = [date.strftime(\"%m-%d-%Y\") for date in date_generated]\n",
    "print(dates)"
   ]
  },
  {
   "cell_type": "code",
   "execution_count": 101,
   "metadata": {},
   "outputs": [],
   "source": [
    "DATA_DIR = '/home/laptop/Documents/data/biology/virus/COVID-19/'\n",
    "#DATA_FILE = 'csse_covid_19_data/csse_covid_19_time_series/time_series_19-covid-Confirmed.csv'\n",
    "DATA_FILE = 'csse_covid_19_data/csse_covid_19_time_series/time_series_covid19_deaths_global.csv'"
   ]
  },
  {
   "cell_type": "code",
   "execution_count": 102,
   "metadata": {},
   "outputs": [
    {
     "data": {
      "text/plain": [
       "0      Afghanistan\n",
       "1          Albania\n",
       "2          Algeria\n",
       "3          Andorra\n",
       "4           Angola\n",
       "          ...     \n",
       "236    Timor-Leste\n",
       "237         Belize\n",
       "238         Canada\n",
       "239           Laos\n",
       "240          Libya\n",
       "Name: Country/Region, Length: 241, dtype: object"
      ]
     },
     "execution_count": 102,
     "metadata": {},
     "output_type": "execute_result"
    }
   ],
   "source": [
    "df = pd.read_csv(DATA_DIR+DATA_FILE)\n",
    "df['Country/Region']"
   ]
  },
  {
   "cell_type": "markdown",
   "metadata": {},
   "source": [
    "# South Korea"
   ]
  },
  {
   "cell_type": "code",
   "execution_count": 103,
   "metadata": {},
   "outputs": [],
   "source": [
    "pop = 51470000"
   ]
  },
  {
   "cell_type": "code",
   "execution_count": 104,
   "metadata": {},
   "outputs": [
    {
     "data": {
      "text/plain": [
       "array([  0,   0,   0,   0,   0,   0,   0,   0,   0,   0,   0,   0,   0,\n",
       "         0,   0,   0,   0,   0,   0,   0,   0,   0,   0,   0,   0,   0,\n",
       "         0,   0,   0,   1,   2,   2,   6,   8,  10,  12,  13,  13,  16,\n",
       "        17,  28,  28,  35,  35,  42,  44,  50,  53,  54,  60,  66,  66,\n",
       "        72,  75,  75,  81,  84,  91,  94, 102, 111, 111, 120])"
      ]
     },
     "execution_count": 104,
     "metadata": {},
     "output_type": "execute_result"
    }
   ],
   "source": [
    "korea = df[df['Country/Region'].str.contains('Korea')]\n",
    "korea = korea.iloc[:, 4:].values.ravel()\n",
    "korea_idx = np.where(korea>step)[0]\n",
    "korea"
   ]
  },
  {
   "cell_type": "code",
   "execution_count": 105,
   "metadata": {},
   "outputs": [
    {
     "data": {
      "text/plain": [
       "array([ 12,  13,  13,  16,  17,  28,  28,  35,  35,  42,  44,  50,  53,\n",
       "        54,  60,  66,  66,  72,  75,  75,  81,  84,  91,  94, 102, 111,\n",
       "       111, 120])"
      ]
     },
     "execution_count": 105,
     "metadata": {},
     "output_type": "execute_result"
    }
   ],
   "source": [
    "korea_ft = korea[korea_idx]\n",
    "korea_ft"
   ]
  },
  {
   "cell_type": "code",
   "execution_count": 106,
   "metadata": {},
   "outputs": [],
   "source": [
    "korea_ft_pop = (korea_ft/pop)*100"
   ]
  },
  {
   "cell_type": "markdown",
   "metadata": {},
   "source": [
    "# Singapore"
   ]
  },
  {
   "cell_type": "code",
   "execution_count": 107,
   "metadata": {},
   "outputs": [],
   "source": [
    "pop = 5612000"
   ]
  },
  {
   "cell_type": "code",
   "execution_count": 108,
   "metadata": {},
   "outputs": [
    {
     "data": {
      "text/plain": [
       "array([0, 0, 0, 0, 0, 0, 0, 0, 0, 0, 0, 0, 0, 0, 0, 0, 0, 0, 0, 0, 0, 0,\n",
       "       0, 0, 0, 0, 0, 0, 0, 0, 0, 0, 0, 0, 0, 0, 0, 0, 0, 0, 0, 0, 0, 0,\n",
       "       0, 0, 0, 0, 0, 0, 0, 0, 0, 0, 0, 0, 0, 0, 0, 2, 2, 2, 2])"
      ]
     },
     "execution_count": 108,
     "metadata": {},
     "output_type": "execute_result"
    }
   ],
   "source": [
    "singapore = df[df['Country/Region'].str.contains('Singapore')]\n",
    "singapore = singapore.iloc[:, 4:].values.ravel()\n",
    "singapore_idx = np.where(singapore>step)[0]\n",
    "singapore"
   ]
  },
  {
   "cell_type": "code",
   "execution_count": 109,
   "metadata": {},
   "outputs": [
    {
     "data": {
      "text/plain": [
       "array([], dtype=int64)"
      ]
     },
     "execution_count": 109,
     "metadata": {},
     "output_type": "execute_result"
    }
   ],
   "source": [
    "singapore_ft = singapore[singapore_idx]\n",
    "singapore_ft"
   ]
  },
  {
   "cell_type": "code",
   "execution_count": 110,
   "metadata": {},
   "outputs": [],
   "source": [
    "singapore_ft_pop = (singapore_ft/pop)*100"
   ]
  },
  {
   "cell_type": "markdown",
   "metadata": {},
   "source": [
    "# Belgium"
   ]
  },
  {
   "cell_type": "code",
   "execution_count": 111,
   "metadata": {},
   "outputs": [],
   "source": [
    "pop = 11400000"
   ]
  },
  {
   "cell_type": "code",
   "execution_count": 112,
   "metadata": {},
   "outputs": [
    {
     "data": {
      "text/plain": [
       "array([  0,   0,   0,   0,   0,   0,   0,   0,   0,   0,   0,   0,   0,\n",
       "         0,   0,   0,   0,   0,   0,   0,   0,   0,   0,   0,   0,   0,\n",
       "         0,   0,   0,   0,   0,   0,   0,   0,   0,   0,   0,   0,   0,\n",
       "         0,   0,   0,   0,   0,   0,   0,   0,   0,   0,   3,   3,   3,\n",
       "         4,   4,   5,  10,  14,  21,  37,  67,  75,  88, 122])"
      ]
     },
     "execution_count": 112,
     "metadata": {},
     "output_type": "execute_result"
    }
   ],
   "source": [
    "belgium = df[df['Country/Region'].str.contains('Belgium')]\n",
    "belgium = belgium.iloc[:, 4:].values.ravel()\n",
    "belgium_idx = np.where(belgium>step)[0]\n",
    "belgium"
   ]
  },
  {
   "cell_type": "code",
   "execution_count": 113,
   "metadata": {},
   "outputs": [
    {
     "data": {
      "text/plain": [
       "array([ 14,  21,  37,  67,  75,  88, 122])"
      ]
     },
     "execution_count": 113,
     "metadata": {},
     "output_type": "execute_result"
    }
   ],
   "source": [
    "belgium_ft = belgium[belgium_idx]\n",
    "belgium_ft"
   ]
  },
  {
   "cell_type": "code",
   "execution_count": 114,
   "metadata": {},
   "outputs": [],
   "source": [
    "belgium_ft_pop = (belgium_ft/pop)*100"
   ]
  },
  {
   "cell_type": "markdown",
   "metadata": {},
   "source": [
    "# Spain"
   ]
  },
  {
   "cell_type": "code",
   "execution_count": 115,
   "metadata": {},
   "outputs": [],
   "source": [
    "pop = 44660000"
   ]
  },
  {
   "cell_type": "code",
   "execution_count": 116,
   "metadata": {},
   "outputs": [
    {
     "data": {
      "text/plain": [
       "array([   0,    0,    0,    0,    0,    0,    0,    0,    0,    0,    0,\n",
       "          0,    0,    0,    0,    0,    0,    0,    0,    0,    0,    0,\n",
       "          0,    0,    0,    0,    0,    0,    0,    0,    0,    0,    0,\n",
       "          0,    0,    0,    0,    0,    0,    0,    0,    1,    2,    3,\n",
       "          5,   10,   17,   28,   35,   54,   55,  133,  195,  289,  342,\n",
       "        533,  623,  830, 1043, 1375, 1772, 2311, 2808])"
      ]
     },
     "execution_count": 116,
     "metadata": {},
     "output_type": "execute_result"
    }
   ],
   "source": [
    "spain = df[df['Country/Region'].str.contains('Spain')]\n",
    "spain = spain.iloc[:, 4:].values.ravel()\n",
    "spain_idx = np.where(spain>step)[0]\n",
    "spain"
   ]
  },
  {
   "cell_type": "code",
   "execution_count": 117,
   "metadata": {},
   "outputs": [
    {
     "data": {
      "text/plain": [
       "array([  17,   28,   35,   54,   55,  133,  195,  289,  342,  533,  623,\n",
       "        830, 1043, 1375, 1772, 2311, 2808])"
      ]
     },
     "execution_count": 117,
     "metadata": {},
     "output_type": "execute_result"
    }
   ],
   "source": [
    "spain_ft = spain[spain_idx]\n",
    "spain_ft"
   ]
  },
  {
   "cell_type": "code",
   "execution_count": 118,
   "metadata": {},
   "outputs": [],
   "source": [
    "spain_ft_pop = (spain_ft/pop)*100"
   ]
  },
  {
   "cell_type": "markdown",
   "metadata": {},
   "source": [
    "# Italy"
   ]
  },
  {
   "cell_type": "code",
   "execution_count": 119,
   "metadata": {},
   "outputs": [],
   "source": [
    "pop = 60480000"
   ]
  },
  {
   "cell_type": "code",
   "execution_count": 120,
   "metadata": {},
   "outputs": [
    {
     "data": {
      "text/plain": [
       "array([   0,    0,    0,    0,    0,    0,    0,    0,    0,    0,    0,\n",
       "          0,    0,    0,    0,    0,    0,    0,    0,    0,    0,    0,\n",
       "          0,    0,    0,    0,    0,    0,    0,    0,    1,    2,    3,\n",
       "          7,   10,   12,   17,   21,   29,   34,   52,   79,  107,  148,\n",
       "        197,  233,  366,  463,  631,  827,  827, 1266, 1441, 1809, 2158,\n",
       "       2503, 2978, 3405, 4032, 4825, 5476, 6077, 6820])"
      ]
     },
     "execution_count": 120,
     "metadata": {},
     "output_type": "execute_result"
    }
   ],
   "source": [
    "italy = df[df['Country/Region'].str.contains('Italy')]\n",
    "italy = italy.iloc[:, 4:].values.ravel()\n",
    "italy_idx = np.where(italy>step)[0]\n",
    "italy"
   ]
  },
  {
   "cell_type": "code",
   "execution_count": 121,
   "metadata": {},
   "outputs": [
    {
     "data": {
      "text/plain": [
       "array([  12,   17,   21,   29,   34,   52,   79,  107,  148,  197,  233,\n",
       "        366,  463,  631,  827,  827, 1266, 1441, 1809, 2158, 2503, 2978,\n",
       "       3405, 4032, 4825, 5476, 6077, 6820])"
      ]
     },
     "execution_count": 121,
     "metadata": {},
     "output_type": "execute_result"
    }
   ],
   "source": [
    "italy_ft = italy[italy_idx]\n",
    "italy_ft"
   ]
  },
  {
   "cell_type": "code",
   "execution_count": 122,
   "metadata": {},
   "outputs": [],
   "source": [
    "italy_ft_pop = (italy_ft/pop)*100"
   ]
  },
  {
   "cell_type": "markdown",
   "metadata": {},
   "source": [
    "# Iran"
   ]
  },
  {
   "cell_type": "code",
   "execution_count": 123,
   "metadata": {},
   "outputs": [],
   "source": [
    "pop = 81160000"
   ]
  },
  {
   "cell_type": "code",
   "execution_count": 124,
   "metadata": {},
   "outputs": [
    {
     "data": {
      "text/plain": [
       "array([   0,    0,    0,    0,    0,    0,    0,    0,    0,    0,    0,\n",
       "          0,    0,    0,    0,    0,    0,    0,    0,    0,    0,    0,\n",
       "          0,    0,    0,    0,    0,    0,    2,    2,    4,    5,    8,\n",
       "         12,   16,   19,   26,   34,   43,   54,   66,   77,   92,  107,\n",
       "        124,  145,  194,  237,  291,  354,  429,  514,  611,  724,  853,\n",
       "        988, 1135, 1284, 1433, 1556, 1685, 1812, 1934])"
      ]
     },
     "execution_count": 124,
     "metadata": {},
     "output_type": "execute_result"
    }
   ],
   "source": [
    "iran = df[df['Country/Region'].str.contains('Iran')]\n",
    "iran = iran.iloc[:, 4:].values.ravel()\n",
    "iran_idx = np.where(iran>step)[0]\n",
    "iran"
   ]
  },
  {
   "cell_type": "code",
   "execution_count": 125,
   "metadata": {},
   "outputs": [
    {
     "data": {
      "text/plain": [
       "array([  12,   16,   19,   26,   34,   43,   54,   66,   77,   92,  107,\n",
       "        124,  145,  194,  237,  291,  354,  429,  514,  611,  724,  853,\n",
       "        988, 1135, 1284, 1433, 1556, 1685, 1812, 1934])"
      ]
     },
     "execution_count": 125,
     "metadata": {},
     "output_type": "execute_result"
    }
   ],
   "source": [
    "iran_ft = iran[iran_idx]\n",
    "iran_ft"
   ]
  },
  {
   "cell_type": "code",
   "execution_count": 126,
   "metadata": {},
   "outputs": [],
   "source": [
    "iran_ft_pop = (iran_ft/pop)*100"
   ]
  },
  {
   "cell_type": "markdown",
   "metadata": {},
   "source": [
    "# US"
   ]
  },
  {
   "cell_type": "code",
   "execution_count": 139,
   "metadata": {},
   "outputs": [],
   "source": [
    "pop = 327200000"
   ]
  },
  {
   "cell_type": "code",
   "execution_count": 141,
   "metadata": {},
   "outputs": [
    {
     "name": "stdout",
     "output_type": "stream",
     "text": [
      "    Province/State Country/Region      Lat     Long  1/22/20  1/23/20  \\\n",
      "225            NaN             US  37.0902 -95.7129        0        0   \n",
      "\n",
      "     1/24/20  1/25/20  1/26/20  1/27/20  ...  3/15/20  3/16/20  3/17/20  \\\n",
      "225        0        0        0        0  ...       63       85      108   \n",
      "\n",
      "     3/18/20  3/19/20  3/20/20  3/21/20  3/22/20  3/23/20  3/24/20  \n",
      "225      118      200      244      307      417      557      706  \n",
      "\n",
      "[1 rows x 67 columns]\n"
     ]
    },
    {
     "data": {
      "text/plain": [
       "array([  0,   0,   0,   0,   0,   0,   0,   0,   0,   0,   0,   0,   0,\n",
       "         0,   0,   0,   0,   0,   0,   0,   0,   0,   0,   0,   0,   0,\n",
       "         0,   0,   0,   0,   0,   0,   0,   0,   0,   0,   0,   0,   1,\n",
       "         1,   6,   7,  11,  12,  14,  17,  21,  22,  28,  36,  40,  47,\n",
       "        54,  63,  85, 108, 118, 200, 244, 307, 417, 557, 706])"
      ]
     },
     "execution_count": 141,
     "metadata": {},
     "output_type": "execute_result"
    }
   ],
   "source": [
    "us = df[df['Country/Region'].str.contains('US')]\n",
    "print(us)\n",
    "#us = us.iloc[:, 4:].values.ravel()\n",
    "us = us.iloc[:, 4:].values.sum(axis=0)\n",
    "us_idx = np.where(us>step)[0]\n",
    "us"
   ]
  },
  {
   "cell_type": "code",
   "execution_count": 133,
   "metadata": {},
   "outputs": [
    {
     "data": {
      "text/plain": [
       "array([ 11,  12,  14,  17,  21,  22,  28,  36,  40,  47,  54,  63,  85,\n",
       "       108, 118, 200, 244, 307, 417, 557, 706])"
      ]
     },
     "execution_count": 133,
     "metadata": {},
     "output_type": "execute_result"
    }
   ],
   "source": [
    "us_ft = us[us_idx]\n",
    "us_ft"
   ]
  },
  {
   "cell_type": "code",
   "execution_count": 134,
   "metadata": {},
   "outputs": [],
   "source": [
    "us_ft_pop = (us_ft/pop)*100"
   ]
  },
  {
   "cell_type": "markdown",
   "metadata": {},
   "source": [
    "# China"
   ]
  },
  {
   "cell_type": "code",
   "execution_count": 135,
   "metadata": {},
   "outputs": [],
   "source": [
    "pop = 1386000000"
   ]
  },
  {
   "cell_type": "code",
   "execution_count": 143,
   "metadata": {},
   "outputs": [
    {
     "data": {
      "text/plain": [
       "array([  17,   18,   26,   42,   56,   82,  131,  133,  171,  213,  259,\n",
       "        361,  425,  491,  563,  633,  718,  805,  905, 1012, 1112, 1117,\n",
       "       1369, 1521, 1663, 1766, 1864, 2003, 2116, 2238, 2238, 2443, 2445,\n",
       "       2595, 2665, 2717, 2746, 2790, 2837, 2872, 2914, 2947, 2983, 3015,\n",
       "       3044, 3072, 3100, 3123, 3139, 3161, 3172, 3180, 3193, 3203, 3217,\n",
       "       3230, 3241, 3249, 3253, 3259, 3274, 3274, 3281])"
      ]
     },
     "execution_count": 143,
     "metadata": {},
     "output_type": "execute_result"
    }
   ],
   "source": [
    "china = df[df['Country/Region'].str.contains('China')]\n",
    "china = china.iloc[:, 4:].values.sum(axis=0)\n",
    "china_idx = np.where(china>step)[0]\n",
    "china"
   ]
  },
  {
   "cell_type": "code",
   "execution_count": 146,
   "metadata": {},
   "outputs": [
    {
     "data": {
      "text/plain": [
       "array([  17,   18,   26,   42,   56,   82,  131,  133,  171,  213,  259,\n",
       "        361,  425,  491,  563,  633,  718,  805,  905, 1012, 1112, 1117,\n",
       "       1369, 1521, 1663, 1766, 1864, 2003, 2116, 2238, 2238, 2443, 2445,\n",
       "       2595, 2665, 2717, 2746, 2790, 2837, 2872, 2914, 2947, 2983, 3015,\n",
       "       3044, 3072, 3100, 3123, 3139, 3161, 3172, 3180, 3193, 3203, 3217,\n",
       "       3230, 3241, 3249, 3253, 3259, 3274, 3274, 3281])"
      ]
     },
     "execution_count": 146,
     "metadata": {},
     "output_type": "execute_result"
    }
   ],
   "source": [
    "china_ft = china[china_idx]\n",
    "china_ft"
   ]
  },
  {
   "cell_type": "code",
   "execution_count": 147,
   "metadata": {},
   "outputs": [],
   "source": [
    "china_ft_pop = (china_ft/pop)*100"
   ]
  },
  {
   "cell_type": "markdown",
   "metadata": {},
   "source": [
    "# Germany"
   ]
  },
  {
   "cell_type": "code",
   "execution_count": 155,
   "metadata": {},
   "outputs": [],
   "source": [
    "pop = 82790000"
   ]
  },
  {
   "cell_type": "code",
   "execution_count": 156,
   "metadata": {},
   "outputs": [
    {
     "data": {
      "text/plain": [
       "array([  0,   0,   0,   0,   0,   0,   0,   0,   0,   0,   0,   0,   0,\n",
       "         0,   0,   0,   0,   0,   0,   0,   0,   0,   0,   0,   0,   0,\n",
       "         0,   0,   0,   0,   0,   0,   0,   0,   0,   0,   0,   0,   0,\n",
       "         0,   0,   0,   0,   0,   0,   0,   0,   2,   2,   3,   3,   7,\n",
       "         9,  11,  17,  24,  28,  44,  67,  84,  94, 123, 157])"
      ]
     },
     "execution_count": 156,
     "metadata": {},
     "output_type": "execute_result"
    }
   ],
   "source": [
    "germany = df[df['Country/Region'].str.contains('Germany')]\n",
    "germany = germany.iloc[:, 4:].values.sum(axis=0)\n",
    "germany_idx = np.where(germany>step)[0]\n",
    "germany"
   ]
  },
  {
   "cell_type": "code",
   "execution_count": 157,
   "metadata": {},
   "outputs": [
    {
     "data": {
      "text/plain": [
       "array([ 11,  17,  24,  28,  44,  67,  84,  94, 123, 157])"
      ]
     },
     "execution_count": 157,
     "metadata": {},
     "output_type": "execute_result"
    }
   ],
   "source": [
    "germany_ft = germany[germany_idx]\n",
    "germany_ft"
   ]
  },
  {
   "cell_type": "code",
   "execution_count": 158,
   "metadata": {},
   "outputs": [],
   "source": [
    "germany_ft_pop = (germany_ft/pop)*100"
   ]
  },
  {
   "cell_type": "code",
   "execution_count": 159,
   "metadata": {},
   "outputs": [
    {
     "data": {
      "text/plain": [
       "<matplotlib.legend.Legend at 0x7fa852ee8978>"
      ]
     },
     "execution_count": 159,
     "metadata": {},
     "output_type": "execute_result"
    },
    {
     "data": {
      "image/png": "[encoded data removed]",
      "text/plain": [
       "<Figure size 1728x1152 with 1 Axes>"
      ]
     },
     "metadata": {},
     "output_type": "display_data"
    }
   ],
   "source": [
    "fig = plt.figure(figsize=(24, 16))\n",
    "ax = fig.add_subplot(1,1,1)\n",
    "ax.plot(np.arange(0, len(belgium_ft)), belgium_ft, color='dodgerblue', label='Belgium', linewidth=10.)\n",
    "ax.plot(np.arange(0, len(us_ft)), us_ft, color='grey', label='US', linewidth=4.)\n",
    "ax.plot(np.arange(0, len(china_ft)), china_ft, color='grey', label='China')\n",
    "ax.plot(np.arange(0, len(italy_ft)), italy_ft, color='indianred', label='Italy', linewidth=5.)\n",
    "ax.plot(np.arange(0, len(iran_ft)), iran_ft, color='orangered', label='Iran')\n",
    "ax.plot(np.arange(0, len(korea_ft)), korea_ft, color='forestgreen', label='South Korea')\n",
    "ax.plot(np.arange(0, len(germany_ft)), germany_ft, color='forestgreen', label='Germany')\n",
    "ax.plot(np.arange(0, len(singapore_ft)), singapore_ft, color='chartreuse', label='Singapore')\n",
    "ax.plot(np.arange(0, len(spain_ft)), spain_ft, color='tomato', label='Spain', linewidth=8.)\n",
    "#ax.plot(np.arange(0, len(ny_ft)), ny_ft, color='indianred', label='NY')\n",
    "ax.set_xlabel(\"Time [days]\")\n",
    "ax.set_ylabel(\"Confirmed\")\n",
    "ax.tick_params(axis ='x')\n",
    "ax.legend()"
   ]
  },
  {
   "cell_type": "code",
   "execution_count": null,
   "metadata": {},
   "outputs": [],
   "source": []
  },
  {
   "cell_type": "code",
   "execution_count": 153,
   "metadata": {},
   "outputs": [
    {
     "data": {
      "text/plain": [
       "<matplotlib.legend.Legend at 0x7fa853023c18>"
      ]
     },
     "execution_count": 153,
     "metadata": {},
     "output_type": "execute_result"
    },
    {
     "data": {
      "image/png": "[encoded data removed]",
      "text/plain": [
       "<Figure size 1728x1152 with 1 Axes>"
      ]
     },
     "metadata": {},
     "output_type": "display_data"
    }
   ],
   "source": [
    "fig = plt.figure(figsize=(24, 16))\n",
    "ax = fig.add_subplot(1,1,1)\n",
    "ax.plot(np.arange(0, len(belgium_ft)), belgium_ft_pop, color='dodgerblue', label='Belgium', linewidth=10.)\n",
    "ax.plot(np.arange(0, len(us_ft)), us_ft_pop, color='grey', label='US', linewidth=4.)\n",
    "ax.plot(np.arange(0, len(china_ft)), china_ft_pop, color='grey', label='China')\n",
    "ax.plot(np.arange(0, len(italy_ft)), italy_ft_pop, color='indianred', label='Italy', linewidth=5.)\n",
    "ax.plot(np.arange(0, len(iran_ft)), iran_ft_pop, color='orangered', label='Iran')\n",
    "ax.plot(np.arange(0, len(korea_ft)), korea_ft_pop, color='forestgreen', label='South Korea')\n",
    "ax.plot(np.arange(0, len(singapore_ft)), singapore_ft_pop, color='chartreuse', label='Singapore')\n",
    "ax.plot(np.arange(0, len(spain_ft)), spain_ft_pop, color='tomato', label='Spain', linewidth=8.)\n",
    "#ax.plot(np.arange(0, len(ny_ft)), ny_ft, color='indianred', label='NY')\n",
    "ax.set_xlabel(\"Time [days]\")\n",
    "ax.set_ylabel(\"Confirmed\")\n",
    "ax.tick_params(axis ='x')\n",
    "ax.legend()"
   ]
  },
  {
   "cell_type": "code",
   "execution_count": null,
   "metadata": {},
   "outputs": [],
   "source": []
  }
 ],
 "metadata": {
  "kernelspec": {
   "display_name": "Python 3",
   "language": "python",
   "name": "python3"
  },
  "language_info": {
   "codemirror_mode": {
    "name": "ipython",
    "version": 3
   },
   "file_extension": ".py",
   "mimetype": "text/x-python",
   "name": "python",
   "nbconvert_exporter": "python",
   "pygments_lexer": "ipython3",
   "version": "3.6.9"
  }
 },
 "nbformat": 4,
 "nbformat_minor": 4
}
